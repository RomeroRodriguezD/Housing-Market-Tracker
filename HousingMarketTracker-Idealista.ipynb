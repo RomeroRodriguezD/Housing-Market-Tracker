{
  "cells": [
    {
      "cell_type": "markdown",
      "metadata": {
        "id": "l8S-uANVVvXq"
      },
      "source": [
        "#**Housing Market Tracker**\n",
        "\n",
        "\n",
        "\n",
        "\n",
        "\n",
        "\n",
        "\n",
        "\n",
        "\n",
        "\n"
      ]
    },
    {
      "cell_type": "markdown",
      "metadata": {
        "id": "J3-5lQIIWLTq"
      },
      "source": [
        "The purpose of this notebook is to set up a house prices tracking database of my cities of interest, based on Idealista data. This is the base algorythm I'll use to feed a future front end.\n"
      ]
    },
    {
      "cell_type": "markdown",
      "metadata": {
        "id": "X4Jxx4JMdcQM"
      },
      "source": [
        "\n",
        "**1 - First, we import all the modules we'll need.**"
      ]
    },
    {
      "cell_type": "code",
      "execution_count": null,
      "metadata": {
        "id": "LY1xHldmVXNo"
      },
      "outputs": [],
      "source": [
        "import pandas as pd\n",
        "import numpy as np\n",
        "import requests\n",
        "from bs4 import BeautifulSoup as bs\n",
        "import matplotlib.pyplot as plt\n",
        "import sqlite3\n",
        "from datetime import date\n",
        "import random\n",
        "import time"
      ]
    },
    {
      "cell_type": "markdown",
      "metadata": {
        "id": "fEdkmAASfS21"
      },
      "source": [
        "**2 - We'll create an SQLite database to store all the data we'll scrap, and mark them with a timestamp that will be a key element to perform long-term analysis.**"
      ]
    },
    {
      "cell_type": "code",
      "execution_count": null,
      "metadata": {
        "colab": {
          "base_uri": "https://localhost:8080/"
        },
        "id": "ZOU7hyeEfrSR",
        "outputId": "87a3cfea-a571-4b65-891d-be2ad530434b"
      },
      "outputs": [
        {
          "output_type": "execute_result",
          "data": {
            "text/plain": [
              "<sqlite3.Cursor at 0x7f54fdbe55e0>"
            ]
          },
          "metadata": {},
          "execution_count": 28
        }
      ],
      "source": [
        "# We create the database and initialize the cursor.\n",
        "\n",
        "connection = sqlite3.connect('idealista_data.db')\n",
        "cursor = connection.cursor()\n",
        "\n",
        "# Then we create the tables that will store all the data. In this case, price for sales and rentals.\n",
        "\n",
        "# Sales table\n",
        "cursor.execute(\"CREATE TABLE IF NOT EXISTS sales_data (id integer PRIMARY KEY, city text, timestamp text,  lowest_price real, highest_price real, average_price real, standard_deviation real, quartile_1 real, quartile_2 real, quartile_3 real);\")\n",
        "# Rentals table\n",
        "cursor.execute(\"CREATE TABLE IF NOT EXISTS rentals_data (id integer PRIMARY KEY, city text, timestamp text, lowest_price real, highest_price real, average_price real, standard_deviation real, quartile_1 real, quartile_2 real, quartile_3 real);\")\n",
        "# Raw sales table \n",
        "cursor.execute(\"CREATE TABLE IF NOT EXISTS sales_raw (id integer PRIMARY KEY, city text, timestamp text, price real);\")\n",
        "# Raw rentals table\n",
        "cursor.execute(\"CREATE TABLE IF NOT EXISTS rental_raw (id integer PRIMARY KEY, city text, timestamp text, price real);\")\n"
      ]
    },
    {
      "cell_type": "markdown",
      "metadata": {
        "id": "RH81ODHJd6eY"
      },
      "source": [
        " **3 - Then we'll define the scraping function that will fetch the \n",
        "data related from the desired cities and store it in the database.**"
      ]
    },
    {
      "cell_type": "code",
      "execution_count": null,
      "metadata": {
        "id": "Oqk9_hCce2eA"
      },
      "outputs": [],
      "source": [
        "def scrap(list_of_cities : tuple, sales : bool = True): # Set sales to False if looking for rentals.\n",
        "\n",
        "    headers = {\n",
        "        \n",
        "        'Host':'www.idealista.com',\n",
        "        'Accept': 'text/html,application/xhtml+xml,application/xml;q=0.9,image/avif,image/webp,*/*;q=0.8',\n",
        "        'Accept-Encoding': 'gzip, deflate, br',\n",
        "        'Accept-Language': 'es-ES,es;q=0.8,en-US;q=0.5,en;q=0.3',\n",
        "        'Connection': 'keep-alive',\n",
        "        'DNT': '1',\n",
        "        'Sec-Fetch-Dest': 'document',\n",
        "        'User-Agent': 'Mozilla/5.0 (Windows NT 10.0; Win64; x64; rv:100.0) Gecko/20100101 Firefox/106.0'}\n",
        "\n",
        "    headers = {k: str(v).encode(\"utf-8\") for k, v in headers.items()}  # Encode UTF-8\n",
        "    cities = list_of_cities\n",
        "    today = date.today()\n",
        "    clean_date = today.strftime(\"%d/%m/%Y\")\n",
        "\n",
        "    for city in cities:\n",
        "      try: \n",
        "        city_name= str(city.replace(\" \", \"-\"))\n",
        "        print(city_name)\n",
        "        prices = []\n",
        "        quartiles = []\n",
        "        page = 1\n",
        "        keep_search = True\n",
        "\n",
        "        while keep_search:\n",
        "            time.sleep(random.uniform(3,7))\n",
        "            # URL constructor. Notice that they are only programmed to find the offers in province of Barcelona, otherwise you should change this part of the url.\n",
        "            if sales:\n",
        "              base_url = f\"https://www.idealista.com/venta-viviendas/{city_name.lower()}-barcelona/pagina-{page}.htm?ordenado-por=precios-asc\"\n",
        "            else:\n",
        "              base_url = f\"https://www.idealista.com/alquiler-viviendas/{city_name.lower()}-barcelona/pagina-{page}.htm?ordenado-por=precios-asc\"\n",
        "            web = requests.get(base_url, headers=headers)\n",
        "            print(f'Idealista server answer to {city_name} request: {web}')\n",
        "            time.sleep(random.uniform(0.2, 0.4))\n",
        "            soup = bs(web.content, 'html.parser')\n",
        "            pricesoup = soup.findAll(\"span\", attrs={\"class\", \"item-price h2-simulated\"})\n",
        "            any_more = soup.findAll(\"li\", attrs={\"class\", \"next\"}) #a, icon-arrow-right-after\n",
        "\n",
        "            print(f\"Extracting data from page {page}.\") # Page check\n",
        "\n",
        "            for price in pricesoup:  # First converts the price into string, removes dots, then it converts it into a float.\n",
        "                new_price = str(price.contents[0])\n",
        "                new_price2 = new_price.replace(\".\", \"\")\n",
        "                new_price2 = float(new_price2)\n",
        "                prices.append(new_price2)\n",
        "\n",
        "            page+=1\n",
        "\n",
        "            if len(any_more) == 0:  # If there's no next page, it stops the loop.\n",
        "                keep_search = False\n",
        "            print(prices)\n",
        "            prices_df = pd.DataFrame(prices, columns=['price'])\n",
        "            mean = float(prices_df['price'].mean().round(2))\n",
        "            quartile_1 = prices_df.quantile([.25])\n",
        "            quartile_1 = quartile_1['price']\n",
        "            quartile_2 = prices_df.quantile([.5])\n",
        "            quartile_2 = quartile_2['price']\n",
        "            quartile_3 = prices_df.quantile([.75])\n",
        "            quartile_3 = quartile_3['price']\n",
        "            std_deviation = prices_df['price'].std()\n",
        "            lowest_price = prices[0]\n",
        "            highest_price = prices[-1]\n",
        "        # Save clean data as general overview for a city, in a given timestamp\n",
        "        if sales:\n",
        "          cursor.execute(\"\"\"INSERT INTO sales_data (city, timestamp, lowest_price, highest_price, average_price, standard_deviation, quartile_1, quartile_2, quartile_3) values (?, ?, ?, ?, ?, ?, ?, ?, ?);\"\"\", (city_name, clean_date, int(lowest_price), int(highest_price), int(mean), int(std_deviation), int(quartile_1), int(quartile_2), int(quartile_3)))\n",
        "        else:\n",
        "          cursor.execute(\"\"\"INSERT INTO rentals_data (city, timestamp, lowest_price, highest_price, average_price, standard_deviation, quartile_1, quartile_2, quartile_3) values (?, ?, ?, ?, ?, ?, ?, ?, ?);\"\"\", (city_name, clean_date, int(lowest_price), int(highest_price), int(mean), int(std_deviation), int(quartile_1), int(quartile_2), int(quartile_3)))\n",
        "         \n",
        "        # Save raw prices data from a city, in a given timestap\n",
        "        for price in prices_df['price']:\n",
        "          item_price = int(price)\n",
        "          if sales:\n",
        "            cursor.execute(\"\"\"INSERT INTO sales_raw (city, timestamp, price) values (?, ?, ?);\"\"\", (city_name, clean_date, item_price))\n",
        "          else:\n",
        "            cursor.execute(\"\"\"INSERT INTO rentals_raw (city, timestamp, price) values (?, ?, ?);\"\"\", (city_name, clean_date, item_price))\n",
        "        connection.commit()\n",
        "        print(f'Sales data from {city_name} saved.')\n",
        "      except:\n",
        "        print(f'Failed to gather data from {city_name}.')\n",
        "        continue\n",
        "\n",
        "      print('Data extraction finished!')    \n",
        "\n",
        "list_of_cities=('cerdanyola del valles', 'badia del valles') # Set your cities of interest\n",
        "                \n",
        "scrap(list_of_cities=list_of_cities) "
      ]
    },
    {
      "cell_type": "markdown",
      "metadata": {
        "id": "zrm-OXKjG0XE"
      },
      "source": [
        "**At this point we have all the data stored in a portable SQLite database. Now we'll build functions to plot our data following diferent criteria:**\n",
        "\n",
        "\n",
        "> - Function to plot the data of a city at specific date (bar plot).\n",
        "> - Function to plot quartiles and scatter data of a city at specific date.\n",
        "> - Function to plot the evolution of the prices of a city over time (basic plot)\n",
        "> - Function to compare cities at specific date (bars).\n",
        "> - Function to compare evolution of a set of cities over time (basic plot, or bars, etc.).\n",
        "\n",
        "\n",
        "\n",
        "\n"
      ]
    },
    {
      "cell_type": "markdown",
      "source": [
        "**1 - Plotting lowest, highest and average prices.**"
      ],
      "metadata": {
        "id": "daC7-6CmjrUz"
      }
    },
    {
      "cell_type": "code",
      "execution_count": null,
      "metadata": {
        "colab": {
          "base_uri": "https://localhost:8080/",
          "height": 452
        },
        "id": "zbgewy1fMWMD",
        "outputId": "19e67895-9be7-465c-e320-9c0c7d3b968d"
      },
      "outputs": [
        {
          "output_type": "display_data",
          "data": {
            "text/plain": [
              "<Figure size 504x504 with 1 Axes>"
            ],
            "image/png": "[encoded data removed]"
          },
          "metadata": {
            "needs_background": "light"
          }
        }
      ],
      "source": [
        "def single_date_city_price(city : str, timestamp : str, sales : bool = True):\n",
        "  \n",
        "  if sales:\n",
        "    data = cursor.execute('SELECT * FROM sales_data WHERE city = ? and timestamp = ? ;', (city, timestamp))\n",
        "  else:\n",
        "    data = cursor.execute('SELECT * FROM rentals_data WHERE city = ? and timestamp = ? ;', (city, timestamp))  \n",
        "  results = cursor.fetchall()\n",
        "  dataframe = pd.DataFrame(results)\n",
        "  dataframe.columns = [description[0] for description in cursor.description]\n",
        "\n",
        "  # Now we have a dataframe with all the data of a single day, with named columns, so we can play around with it.\n",
        "\n",
        "  # Bar plot \n",
        "\n",
        "  clean_df = dataframe[['city','lowest_price', 'highest_price','average_price']]\n",
        "  ax = clean_df.plot.bar(rot= 0, figsize=(7,7), edgecolor='white', linewidth=3)\n",
        "  ax.legend(['Lowest price', 'Highest price', 'Average price'], loc=2)\n",
        "  # Legend parameters\n",
        "  l4 = ax.legend(bbox_to_anchor=(0, 1.02, 1, 0.2), loc=\"lower left\",\n",
        "                mode=\"expand\", borderaxespad=0, ncol=3)\n",
        "\n",
        "  # Show values\n",
        "  \n",
        "  for p in ax.patches:\n",
        "    ax.annotate(str(p.get_height()), (p.get_x() + p.get_width()/2  , p.get_height() * 1.01), ha='center', fontsize=10)\n",
        "\n",
        "  # Clean name for the plot and assign it to X axis:\n",
        "\n",
        "  raw_city_name = city\n",
        "  clean_name = city.replace('-', ' ')\n",
        "  plt.xlabel(f'{clean_name.title()}')\n",
        "  plt.ylabel('Price')\n",
        "  plt.tick_params(\n",
        "    axis='x',          # changes apply to the x-axis\n",
        "    which='both',      # both major and minor ticks are affected\n",
        "    bottom=False,      # ticks along the bottom edge are off\n",
        "    top=False,         # ticks along the top edge are off\n",
        "    labelbottom=False) # labels along the bottom edge are off\n",
        "  # Label thousand as K\n",
        "  ylabels = ['{:,.0f}'.format(x) + 'K' for x in ax.get_yticks()/1000]\n",
        "  ax.set_yticklabels(ylabels)\n",
        "  plt.show()\n",
        "\n",
        "single_date_city_price(city='cerdanyola-del-valles', timestamp = '13/11/2022')"
      ]
    },
    {
      "cell_type": "markdown",
      "source": [
        "**2 - Plotting prices of a city at a given timestamp**\n",
        "\n",
        "**2.1 Scatter plot**"
      ],
      "metadata": {
        "id": "Q877ItGNmIWw"
      }
    },
    {
      "cell_type": "code",
      "source": [
        "def scatter(city : str, timestamp : str, sales : bool = True):\n",
        "\n",
        "  if sales:\n",
        "    data = cursor.execute('SELECT * FROM sales_raw WHERE city = ? and timestamp = ? ;', (city, timestamp))\n",
        "  else:\n",
        "    data = cursor.execute('SELECT * FROM rentals_raw WHERE city = ? and timestamp = ? ;', (city, timestamp))\n",
        "  results = cursor.fetchall()\n",
        "  dataframe = pd.DataFrame(results)\n",
        "  dataframe.columns = [description[0] for description in cursor.description]\n",
        "\n",
        "  # Now we have a dataframe with all the data of a single day, with named columns, like in the previous function.\n",
        "\n",
        "  # Scatter plot\n",
        "\n",
        "  clean_df = dataframe[['city','price', 'timestamp']]\n",
        "  raw_city_name = city\n",
        "  clean_name = city.replace('-', ' ')\n",
        "  ax = clean_df.plot.scatter(x='price',y='city', rot=45)\n",
        "  ax.legend(['Price'], loc=2)\n",
        "  plt.title(f'Distribución de precios en {clean_name.title()} a fecha {timestamp}')\n",
        "  plt.xlabel(f'Price')\n",
        "  ax.axes.yaxis.set_visible(False) # remove y axis label since it is useless having the title\n",
        "  ax.get_legend().remove()\n",
        "  plt.tick_params(\n",
        "    axis='y',          # changes apply to the x-axis\n",
        "    which='both',      # both major and minor ticks are affected\n",
        "    bottom=False,      # ticks along the bottom edge are off\n",
        "    top=False,         # ticks along the top edge are off\n",
        "    labelleft=False,       \n",
        "    labelbottom=False) # labels along the bottom edge are off\n",
        "\n",
        "  xlabels = ['{:,.0f}'.format(x) + 'K' for x in ax.get_xticks()/1000]\n",
        "  ax.set_xticklabels(xlabels)\n",
        " \n",
        "scatter(city='cerdanyola-del-valles', timestamp = '13/11/2022')"
      ],
      "metadata": {
        "id": "eHs7I8Zf3rRl",
        "colab": {
          "base_uri": "https://localhost:8080/",
          "height": 317
        },
        "outputId": "6f5d3ada-45f7-4985-8c47-3b43e580898f"
      },
      "execution_count": null,
      "outputs": [
        {
          "output_type": "display_data",
          "data": {
            "text/plain": [
              "<Figure size 432x288 with 1 Axes>"
            ],
            "image/png": "[encoded data removed]"
          },
          "metadata": {
            "needs_background": "light"
          }
        }
      ]
    },
    {
      "cell_type": "markdown",
      "source": [
        "**2.2 Quartiles boxplot**"
      ],
      "metadata": {
        "id": "RWf1to5m0to9"
      }
    },
    {
      "cell_type": "code",
      "source": [
        "def quartiles(city : str, timestamp : str, sales : bool = True):\n",
        "  # Get all the data\n",
        "  if sales:\n",
        "    data = cursor.execute('SELECT * FROM sales_raw WHERE city = ? and timestamp = ? ;', (city, timestamp))\n",
        "  else:\n",
        "    data = cursor.execute('SELECT * FROM rentals_raw WHERE city = ? and timestamp = ? ;', (city, timestamp))\n",
        "  results = cursor.fetchall()\n",
        "  dataframe = pd.DataFrame(results)\n",
        "  dataframe.columns = [description[0] for description in cursor.description]\n",
        "\n",
        "  # Quartiles plot\n",
        "\n",
        "  clean_df = dataframe[['city','price', 'timestamp']]\n",
        "  quartile_1 = clean_df['price'].quantile([.25])\n",
        "  quartile_2 = clean_df['price'].quantile([.5])\n",
        "  quartile_3 = clean_df['price'].quantile([.75])\n",
        "  raw_city_name = city\n",
        "  clean_name = city.replace('-', ' ')\n",
        "\n",
        "  quartiles = clean_df.boxplot(grid=False)\n",
        "  quartiles.axes.xaxis.set_visible(False)\n",
        "  plt.title(f'Distribución de precios en {clean_name.title()} a fecha {timestamp}')\n",
        "  plt.ylabel('Price')\n",
        "\n",
        "  # Formato para mostrar en miles (K)\n",
        "  ylabels = ['{:,.0f}'.format(x) + 'K' for x in quartiles.get_yticks()/1000]\n",
        "  quartiles.set_yticklabels(ylabels)\n",
        "\n",
        "  plt.show()\n",
        "\n",
        "quartiles(city='badia-del-valles', timestamp = '13/11/2022')"
      ],
      "metadata": {
        "colab": {
          "base_uri": "https://localhost:8080/",
          "height": 268
        },
        "id": "e9xcQPJI1Psm",
        "outputId": "ada499b4-7ba0-40c1-ec3e-1a0d5f239013"
      },
      "execution_count": null,
      "outputs": [
        {
          "output_type": "display_data",
          "data": {
            "text/plain": [
              "<Figure size 432x288 with 1 Axes>"
            ],
            "image/png": "[encoded data removed]"
          },
          "metadata": {
            "needs_background": "light"
          }
        }
      ]
    },
    {
      "cell_type": "markdown",
      "source": [
        "**2.3 Function to compare cities at specific date (basic plot, or bars).**"
      ],
      "metadata": {
        "id": "PnwlEIbyp5Kp"
      }
    },
    {
      "cell_type": "code",
      "source": [
        "def compare_prices_single_date(sales : bool = True):\n",
        "  # Final version will receive a tuple of cities as an argument instead of an inner one\n",
        "  cities = ('cerdanyola-del-valles', 'badia-del-valles')\n",
        "  timestamp = '13/11/2022'\n",
        "  data = pd.DataFrame(columns=['City', 'Lowest price', 'Highest price', 'Average price']) \n",
        "\n",
        "  # Gathering the data for each city\n",
        "\n",
        "  for city in cities:\n",
        "    clean_city = city.replace('-',' ')\n",
        "    if sales:\n",
        "      raw_data = cursor.execute('SELECT lowest_price, highest_price, average_price FROM sales_data WHERE city = ? and timestamp = ? ;', (city, timestamp)) \n",
        "    else:\n",
        "      raw_data = cursor.execute('SELECT lowest_price, highest_price, average_price FROM rentals_data WHERE city = ? and timestamp = ? ;', (city, timestamp))          \n",
        "    results = cursor.fetchall()\n",
        "    low_price = int(results[0][0])\n",
        "    high_price = int(results[0][1])\n",
        "    average_price = int(results[0][2])\n",
        "    new_row = {'City':clean_city.title(), 'Lowest price':low_price, 'Highest price':high_price, 'Average price':average_price}\n",
        "    data = data.append(new_row, ignore_index = True)\n",
        "\n",
        "  # bar plot\n",
        "  plot = data.plot.bar(x='City', rot= 0, figsize=(6,6), edgecolor='white', linewidth=3)\n",
        "  plot.legend(['Lowest price', 'Highest price', 'Average price'], loc=2)\n",
        "  # Legend parameters\n",
        "  l4 = plot.legend(bbox_to_anchor=(0, 1.02, 1, 0.2), loc=\"lower left\",\n",
        "                mode=\"expand\", borderaxespad=0, ncol=3)\n",
        "\n",
        "  # Show values\n",
        "  \n",
        "  for p in plot.patches:\n",
        "    plot.annotate(str(p.get_height()), (p.get_x() + p.get_width()/2  , p.get_height() * 1.01), ha='center', fontsize=10)\n",
        "\n",
        "  # Clean name for the plot and assign it to X axis:\n",
        "\n",
        "  raw_city_name = city\n",
        "  clean_name = city.replace('-', ' ')\n",
        "  plt.xlabel('')\n",
        "  plt.ylabel('Price')\n",
        "  plt.tick_params(\n",
        "      axis='x',          # changes apply to the x-axis\n",
        "      which='both',      # both major and minor ticks are affected\n",
        "      bottom=False,      # ticks along the bottom edge are off\n",
        "      top=False,         # ticks along the top edge are off\n",
        "      labelbottom=True) # labels along the bottom edge are off\n",
        "    \n",
        "  # Formato para mostrar en miles (K)\n",
        "  ylabels = ['{:,.0f}'.format(x) + 'K' for x in plot.get_yticks()/1000]\n",
        "  plot.set_yticklabels(ylabels)\n",
        "\n",
        "  plt.show()\n",
        "\n",
        "compare_prices_single_date()\n",
        "\n"
      ],
      "metadata": {
        "id": "l7o2RoaBp7-C",
        "colab": {
          "base_uri": "https://localhost:8080/",
          "height": 399
        },
        "outputId": "c9860192-0def-4290-ac35-c415715d1bf5"
      },
      "execution_count": null,
      "outputs": [
        {
          "output_type": "display_data",
          "data": {
            "text/plain": [
              "<Figure size 432x432 with 1 Axes>"
            ],
            "image/png": "[encoded data removed]"
          },
          "metadata": {
            "needs_background": "light"
          }
        }
      ]
    },
    {
      "cell_type": "markdown",
      "source": [
        "**2.4 Function to check evolution of prices over time in one city. Still have to be tested in future with more data stored.**"
      ],
      "metadata": {
        "id": "mpkGaXcdJarW"
      }
    },
    {
      "cell_type": "code",
      "source": [
        "def evol_single_city(city : str, timestamp_tuple : tuple, sales : bool = True):\n",
        "\n",
        "  # Final version will receive a tuple of cities as an argument.\n",
        "  city = ('cerdanyola-del-valles')\n",
        "  timestamps = ('13/11/2022', 'Future new date')\n",
        "  data = pd.DataFrame(columns=['City', 'Average price']) \n",
        "   \n",
        "  # Gathering the data for each city\n",
        "\n",
        "  for date in timestamps:\n",
        "    clean_city = city.replace('-',' ')\n",
        "    if sales:\n",
        "      raw_data = cursor.execute('SELECT average_price FROM sales_data WHERE city = ? and timestamp = ? ;', (city, date))\n",
        "    else:\n",
        "      raw_data = cursor.execute('SELECT average_price FROM rentals_data WHERE city = ? and timestamp = ? ;', (city, date))    \n",
        "    results = cursor.fetchall()\n",
        "    average_price = int(results[0][0])\n",
        "    new_row = {'City':clean_city.title(), 'Average price':average_price}\n",
        "    data = data.append(new_row, ignore_index = True)\n",
        "  \n",
        "  # bar plot\n",
        "  plot = data.plot(x='City', rot= 0, figsize=(6,6), edgecolor='white', linewidth=3)\n",
        "  plot.legend(['Average price'], loc=2)\n",
        "\n",
        "  # Show values\n",
        "  \n",
        "  for p in plot.patches:\n",
        "    plot.annotate(str(p.get_height()), (p.get_x() + p.get_width()/2  , p.get_height() * 1.01), ha='center', fontsize=10)\n",
        "\n",
        "  # Clean name for the plot and assign it to X axis:\n",
        "\n",
        "  raw_city_name = city\n",
        "  clean_name = city.replace('-', ' ')\n",
        "  #plt.xlabel(f'{clean_name.title()}')\n",
        "  plt.ylabel('Price')\n",
        "  plt.tick_params(\n",
        "    axis='x',          # changes apply to the x-axis\n",
        "    which='both',      # both major and minor ticks are affected\n",
        "    bottom=False,      # ticks along the bottom edge are off\n",
        "    top=False,         # ticks along the top edge are off\n",
        "    labelbottom=True) # labels along the bottom edge are off\n",
        "    \n",
        "  # Format (K)\n",
        "  ylabels = ['{:,.0f}'.format(x) + 'K' for x in plot.get_yticks()/1000]\n",
        "  plot.set_yticklabels(ylabels)\n",
        "\n",
        "  plt.show()\n",
        "    \n",
        "    \n"
      ],
      "metadata": {
        "id": "fGTVStIzJgdI"
      },
      "execution_count": null,
      "outputs": []
    },
    {
      "cell_type": "markdown",
      "source": [
        "**2.5 Function to compare evolution of average prices over time between several cities. Test pending.**"
      ],
      "metadata": {
        "id": "1HAODF83VBZ6"
      }
    },
    {
      "cell_type": "code",
      "source": [
        "def evol_cities(cities : tuple, timestamp_tuple : tuple, sales : bool = True):\n",
        "\n",
        "  # Final version will receive tuples as an argument, not a hardcoded city like in this example.\n",
        "  city = ('cerdanyola-del-valles')\n",
        "  timestamps = ('09/11/2022', 'Future new date')\n",
        "  data = pd.DataFrame(columns=['City',  'Average price', 'date']) \n",
        "\n",
        "  # Gathering the data for each city and date\n",
        "\n",
        "  for date in timestamps:\n",
        "    for city in cities:\n",
        "      clean_city = city.replace('-',' ')\n",
        "      if sales:\n",
        "          raw_data = cursor.execute('SELECT average_price FROM sales_data WHERE city = ? and timestamp = ? ;', (city, date))\n",
        "      else:\n",
        "          raw_data = cursor.execute('SELECT average_price FROM rentals_data WHERE city = ? and timestamp = ? ;', (city, date))  \n",
        "      results = cursor.fetchall()\n",
        "      average_price = int(results[0][2])\n",
        "      new_row = {'City':clean_city.title(), 'Average price':average_price, 'date':date}\n",
        "      data = data.append(new_row, ignore_index = True)\n",
        "  \n",
        "  # bar plot\n",
        "  plot = data.plot(x='City', rot= 0, figsize=(6,6), edgecolor='white', linewidth=3)\n",
        "  plot.legend(['Average price'], loc=2)\n",
        "\n",
        "  # Show values\n",
        "  \n",
        "  for p in plot.patches:\n",
        "    plot.annotate(str(p.get_height()), (p.get_x() + p.get_width()/2  , p.get_height() * 1.01), ha='center', fontsize=10)\n",
        "\n",
        "  # Clean name for the plot and assign it to X axis:\n",
        "\n",
        "  raw_city_name = city\n",
        "  clean_name = city.replace('-', ' ')\n",
        "  #plt.xlabel(f'{clean_name.title()}')\n",
        "  plt.ylabel('Price')\n",
        "  plt.tick_params(\n",
        "    axis='x',          # changes apply to the x-axis\n",
        "    which='both',      # both major and minor ticks are affected\n",
        "    bottom=False,      # ticks along the bottom edge are off\n",
        "    top=False,         # ticks along the top edge are off\n",
        "    labelbottom=True) # labels along the bottom edge are off\n",
        "    \n",
        "  # Format the y ticks to show thousands as K.\n",
        "  ylabels = ['{:,.0f}'.format(x) + 'K' for x in plot.get_yticks()/1000]\n",
        "  plot.set_yticklabels(ylabels)\n",
        "\n",
        "  plt.show()\n",
        "    \n",
        "    \n"
      ],
      "metadata": {
        "id": "8958j8UzVboz"
      },
      "execution_count": null,
      "outputs": []
    },
    {
      "cell_type": "markdown",
      "source": [
        "# **3 - Displaying size of the offer**\n",
        "\n",
        "This could be, again, divided in many functions:\n",
        "\n",
        "> - Size of offer of one or many cities in a single date.\n",
        "> - Size of offer of one or many cities over time."
      ],
      "metadata": {
        "id": "UtrsLuBueDA_"
      }
    },
    {
      "cell_type": "markdown",
      "source": [
        "**3.1 Getting total offer of one or many cities in a given timestamp.**\n",
        "\n",
        "\n"
      ],
      "metadata": {
        "id": "2fJGT4XOYJAB"
      }
    },
    {
      "cell_type": "code",
      "source": [
        "def get_total_offer(cities : tuple, timestamp : str, sales : bool = True):\n",
        "\n",
        "   cities = cities\n",
        "   date = timestamp\n",
        "   data = pd.DataFrame(columns=['City',  'Total offer', 'Date'])\n",
        "\n",
        "   for city in cities:       \n",
        "      # Gathering the data for each city and moment\n",
        "      clean_city = city.replace('-',' ')\n",
        "      # Distinction between sales or rentals.\n",
        "      if sales:\n",
        "        raw_data = cursor.execute('SELECT count(*) FROM sales_raw WHERE city = ? and timestamp = ? ;', (city, date))\n",
        "      else:\n",
        "        raw_data = cursor.execute('SELECT count(*) FROM rentals_raw WHERE city = ? and timestamp = ? ;', (city, date))\n",
        "      results = cursor.fetchall()\n",
        "      total_offer = int(results[0][0])\n",
        "      new_row = {'City':clean_city.title(), 'Total offer':total_offer, 'Date':date}\n",
        "      data = data.append(new_row, ignore_index = True)\n",
        " \n",
        "   # Bar plot \n",
        "\n",
        "   ax = data.plot.bar(x='City',rot= 0, figsize=(7,7), edgecolor='white', linewidth=3, legend=False)\n",
        "\n",
        "   # Show values\n",
        "  \n",
        "   for p in ax.patches:\n",
        "     ax.annotate(str(p.get_height()), (p.get_x() + p.get_width()/2  , p.get_height() * 1.01), ha='center', fontsize=10)\n",
        "\n",
        "   # Clean name for the plot and assign it to X axis:\n",
        "\n",
        "   raw_city_name = city\n",
        "   clean_name = city.replace('-', ' ')\n",
        "   plt.title(f'Total house offers per city at {timestamp}.')\n",
        "   plt.ylabel('Price')\n",
        "   plt.xlabel('')\n",
        "   plt.tick_params(\n",
        "      axis='x',          # changes apply to the x-axis\n",
        "      which='both',      # both major and minor ticks are affected\n",
        "      bottom=False,      # ticks along the bottom edge are off\n",
        "      top=False,         # ticks along the top edge are off\n",
        "      labelbottom=True) # labels along the bottom edge are off\n",
        "\n",
        "   plt.show()\n",
        "\n",
        "list_of_cities=('cerdanyola-del-valles', 'badia-del-valles')\n",
        "get_total_offer(cities=list_of_cities, timestamp='13/11/2022')"
      ],
      "metadata": {
        "colab": {
          "base_uri": "https://localhost:8080/",
          "height": 444
        },
        "id": "OlLAm3puD2nz",
        "outputId": "ae8b652b-6f16-4faf-a999-35c6c5c2b27f"
      },
      "execution_count": null,
      "outputs": [
        {
          "output_type": "display_data",
          "data": {
            "text/plain": [
              "<Figure size 504x504 with 1 Axes>"
            ],
            "image/png": "[encoded data removed]"
          },
          "metadata": {
            "needs_background": "light"
          }
        }
      ]
    },
    {
      "cell_type": "markdown",
      "source": [
        "**3.2 Plotting evolution of cities offer over time.**"
      ],
      "metadata": {
        "id": "8VLQBhAImdBq"
      }
    },
    {
      "cell_type": "code",
      "source": [
        "def offer_evolution(cities : tuple, timestamp : tuple, sales : bool = True):\n",
        "\n",
        "   cities = cities\n",
        "   dates = timestamp\n",
        "   data = pd.DataFrame(columns=['City',  'Total offer', 'Date'])\n",
        "   # Gathering the data for each city and moment\n",
        "   for timestamp in dates:\n",
        "      for city in cities:       \n",
        "          clean_city = city.replace('-',' ')\n",
        "          # Distinction between sales or rentals.\n",
        "          if sales:\n",
        "            raw_data = cursor.execute('SELECT count(*) FROM sales_raw WHERE city = ? and timestamp = ? ;', (city, date))\n",
        "          else:\n",
        "            raw_data = cursor.execute('SELECT count(*) FROM rentals_raw WHERE city = ? and timestamp = ? ;', (city, date))\n",
        "          results = cursor.fetchall()\n",
        "          total_offer = int(results[0][0])\n",
        "          new_row = {'City':clean_city.title(), 'Total offer':total_offer, 'Date':date}\n",
        "          data = data.append(new_row, ignore_index = True)\n",
        "\n",
        "  # bar plot\n",
        "  plot = data.plot(x='City', rot= 0, figsize=(6,6), edgecolor='white', linewidth=3)\n",
        "  plot.legend(['Average price'], loc=2)\n",
        "\n",
        "  # Show values\n",
        "  \n",
        "  for p in plot.patches:\n",
        "    plot.annotate(str(p.get_height()), (p.get_x() + p.get_width()/2  , p.get_height() * 1.01), ha='center', fontsize=10)\n",
        "\n",
        "  # Clean name for the plot and assign it to X axis:\n",
        "\n",
        "  raw_city_name = city\n",
        "  clean_name = city.replace('-', ' ')\n",
        "  #plt.xlabel(f'{clean_name.title()}')\n",
        "  plt.ylabel('Price')\n",
        "  plt.tick_params(\n",
        "    axis='x',          # changes apply to the x-axis\n",
        "    which='both',      # both major and minor ticks are affected\n",
        "    bottom=False,      # ticks along the bottom edge are off\n",
        "    top=False,         # ticks along the top edge are off\n",
        "    labelbottom=True) # labels along the bottom edge are off\n",
        "    \n",
        "  # Format the y ticks to show thousands as K.\n",
        "  ylabels = ['{:,.0f}'.format(x) + 'K' for x in plot.get_yticks()/1000]\n",
        "  plot.set_yticklabels(ylabels)\n",
        "\n",
        "  plt.show()\n",
        " "
      ],
      "metadata": {
        "id": "NVn6Z7Kwmhfh"
      },
      "execution_count": null,
      "outputs": []
    }
  ],
  "metadata": {
    "colab": {
      "provenance": []
    },
    "kernelspec": {
      "display_name": "Python 3",
      "name": "python3"
    },
    "language_info": {
      "name": "python"
    },
    "accelerator": "GPU",
    "gpuClass": "standard"
  },
  "nbformat": 4,
  "nbformat_minor": 0
}